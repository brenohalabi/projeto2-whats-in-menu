{
 "cells": [
  {
   "cell_type": "markdown",
   "id": "3d8d51e4-3a1f-419d-ba69-15c1d6e4cc02",
   "metadata": {},
   "source": [
    "## Projeto 2: Construindo um dashboard\n",
    "Vimos que é possível construir gráficos dinâmicos em aula.\n",
    "\n",
    "Agora é a oportunidade de juntar o que aprendemos de pandas, seaborn, e plotly. Integrando num dashboard que será hospedado no streamlit.\n",
    "\n",
    "### Objetivo:\n",
    "- Construir um dashboard dinâmico com dados de interesse\n",
    "    - Ações\n",
    "    - Casos de COVID\n",
    "    - Viagens da Uber\n",
    "    - Qualquer tipo de dados!\n",
    "- Aplicar boas práticas de desenvolvimento com pandas e gráficos\n",
    "- Escolher a palheta de cor adequada\n",
    "- Escolher gráficos adequados\n",
    "- Criar uma estória para o usuário com os dados  \n",
    "\n",
    "#### Objetivo extra\n",
    "- Publicar o dash\n",
    "Como publicar o dash?  \n",
    "https://docs.streamlit.io/en/stable/deploy_streamlit_app.html\n",
    "\n",
    "\n",
    "\n",
    "Não precisamos criar 10 gráficos distintos, ou um com muitas informações. As vezes um ou dois gráficos já é o suficiente para passar a mensagem de forma objetiva!\n",
    "\n",
    "link do streamlit  \n",
    "https://streamlit.io/  \n",
    "A documentação é bem detalhada! Olhe com atenção e veja as possibilidades de botões, filtros e gráficos.  \n",
    "https://docs.streamlit.io/en/stable/\n",
    "\n",
    "\n",
    "\n",
    "### Dados:\n",
    "`yfinance` modulo para extração de valores de ações.\n",
    "\n",
    "https://data.world/datasets/uber\n",
    "\n",
    "https://ourworldindata.org/\n"
   ]
  },
  {
   "cell_type": "markdown",
   "id": "bc48282c-34ab-47b0-a054-592c1e975eee",
   "metadata": {},
   "source": [
    "Trabalho: https://data.world/data-society/discover-the-menu/workspace/intro"
   ]
  },
  {
   "cell_type": "code",
   "execution_count": 74,
   "id": "163eea77-48a3-4390-9155-33c4aa059084",
   "metadata": {},
   "outputs": [],
   "source": [
    "import pandas as pd\n",
    "# chamando os aqrquivos\n",
    "dish = './Dish.csv'\n",
    "menuitem = './MenuItem.csv'\n",
    "menu = './Menu.csv'\n",
    "menu_page = './MenuPage.csv'\n",
    "\n",
    "dish_raw = pd.read_csv(dish)\n",
    "menuitem_raw = pd.read_csv(menuitem)\n",
    "menu_raw = pd.read_csv(menu)\n",
    "menu_page_raw = pd.read_csv(menu_page)\n",
    "\n",
    "# manipulação dos dados\n",
    "menuitem_raw = menuitem_raw.drop(columns=['created_at','updated_at','xpos','ypos','high_price'])\n",
    "menuitem_raw = menuitem_raw.dropna(subset=['price'])\n",
    "\n",
    "dish_raw = dish_raw.drop(columns=['description','first_appeared','last_appeared'])\n",
    "dish_raw = dish_raw.dropna(subset=['lowest_price','highest_price'])\n",
    "\n",
    "menu_page_raw = menu_page_raw.drop(columns=['page_number','image_id','full_height','full_width','uuid'])\n",
    "\n",
    "menu_raw = menu_raw.drop(columns=['status','notes','occasion','venue','event','keywords','language','location_type','name','page_count','call_number','physical_description','place'])\n",
    "menu_raw = menu_raw.dropna(subset=['currency','sponsor','date'])\n",
    "\n",
    "# aplicando os joins\n",
    "df = menuitem_raw.set_index('dish_id').join(dish_raw.set_index('id')).reset_index(drop=True)\n",
    "df_ = df.set_index('menu_page_id').join(menu_page_raw.set_index('id')).reset_index(drop=True)\n",
    "df_final = df_.set_index('menu_id').join(menu_raw.set_index('id'),how='inner').reset_index(drop=True)\n",
    "\n",
    "# fazendo ultimas manipulações\n",
    "df_final = df_final[~(df_final.date == '2928-03-26')]\n",
    "df_final = df_final[~(df_final['date'] <= '1091-01-27')]\n",
    "df_final['date'] = pd.to_datetime(df_final['date'])\n",
    "df_final['year'] = df_final.date.dt.year\n",
    "df_final['price_var'] = df_final.apply(lambda x: x['highest_price'] - x['lowest_price'] if x['lowest_price'] > 0 else 0, axis=1)\n",
    "\n",
    "# salvando no pdf\n",
    "df_final.to_csv('df_final.csv',index=False)"
   ]
  },
  {
   "cell_type": "code",
   "execution_count": 76,
   "id": "1bc4b674-35a4-4500-a998-ca0383b01082",
   "metadata": {},
   "outputs": [
    {
     "name": "stdout",
     "output_type": "stream",
     "text": [
      "<class 'pandas.core.frame.DataFrame'>\n",
      "Int64Index: 783610 entries, 0 to 784134\n",
      "Data columns (total 15 columns):\n",
      " #   Column           Non-Null Count   Dtype         \n",
      "---  ------           --------------   -----         \n",
      " 0   id               783610 non-null  int64         \n",
      " 1   price            783610 non-null  float64       \n",
      " 2   name             783450 non-null  object        \n",
      " 3   menus_appeared   783450 non-null  float64       \n",
      " 4   times_appeared   783450 non-null  float64       \n",
      " 5   lowest_price     783450 non-null  float64       \n",
      " 6   highest_price    783450 non-null  float64       \n",
      " 7   sponsor          783610 non-null  object        \n",
      " 8   date             783610 non-null  datetime64[ns]\n",
      " 9   location         783610 non-null  object        \n",
      " 10  currency         783610 non-null  object        \n",
      " 11  currency_symbol  783610 non-null  object        \n",
      " 12  dish_count       783610 non-null  int64         \n",
      " 13  year             783610 non-null  int64         \n",
      " 14  price_var        783610 non-null  float64       \n",
      "dtypes: datetime64[ns](1), float64(6), int64(3), object(5)\n",
      "memory usage: 95.7+ MB\n"
     ]
    }
   ],
   "source": [
    "df_final.info()"
   ]
  }
 ],
 "metadata": {
  "kernelspec": {
   "display_name": "Python 3",
   "language": "python",
   "name": "python3"
  },
  "language_info": {
   "codemirror_mode": {
    "name": "ipython",
    "version": 3
   },
   "file_extension": ".py",
   "mimetype": "text/x-python",
   "name": "python",
   "nbconvert_exporter": "python",
   "pygments_lexer": "ipython3",
   "version": "3.8.8"
  }
 },
 "nbformat": 4,
 "nbformat_minor": 5
}
